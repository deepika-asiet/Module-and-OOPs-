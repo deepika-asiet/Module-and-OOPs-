{
 "cells": [
  {
   "cell_type": "code",
   "execution_count": null,
   "id": "e8e1539a",
   "metadata": {},
   "outputs": [],
   "source": [
    "Modules in Python:\n",
    "    \n",
    "    A file containing a set of functions you want to include in your application.\n",
    "\n",
    "A Python module is a file containing Python definitions and statements. \n",
    "A module can define functions, classes, and variables. \n",
    "A module can also include runnable code. \n",
    "Grouping related code into a module makes the code easier to understand and use. \n",
    "It also makes the code logically organized.\n"
   ]
  },
  {
   "cell_type": "code",
   "execution_count": 1,
   "id": "69dee799",
   "metadata": {},
   "outputs": [
    {
     "name": "stdout",
     "output_type": "stream",
     "text": [
      "5.0\n",
      "3.141592653589793\n",
      "114.59155902616465\n",
      "1.0471975511965976\n",
      "0.9092974268256817\n",
      "0.8775825618903728\n",
      "0.23414336235146527\n",
      "24\n"
     ]
    }
   ],
   "source": [
    "# importing built-in module math\n",
    "import math\n",
    "  \n",
    "# using square root(sqrt) function contained \n",
    "# in math module\n",
    "print(math.sqrt(25)) \n",
    "  \n",
    "# using pi function contained in math module\n",
    "print(math.pi) \n",
    "  \n",
    "# 2 radians = 114.59 degrees\n",
    "print(math.degrees(2))  \n",
    "  \n",
    "# 60 degrees = 1.04 radians\n",
    "print(math.radians(60))  \n",
    "  \n",
    "# Sine of 2 radians\n",
    "print(math.sin(2))  \n",
    "  \n",
    "# Cosine of 0.5 radians\n",
    "print(math.cos(0.5))  \n",
    "  \n",
    "# Tangent of 0.23 radians\n",
    "print(math.tan(0.23)) \n",
    "  \n",
    "# 1 * 2 * 3 * 4 = 24\n",
    "print(math.factorial(4))  \n",
    "  \n"
   ]
  },
  {
   "cell_type": "code",
   "execution_count": 2,
   "id": "ca728fa8",
   "metadata": {},
   "outputs": [
    {
     "name": "stdout",
     "output_type": "stream",
     "text": [
      "1\n",
      "0.2748660641749706\n",
      "50.18832552377024\n",
      "hello\n"
     ]
    }
   ],
   "source": [
    "# importing built in module random\n",
    "import random\n",
    "  \n",
    "# printing random integer between 0 and 5\n",
    "print(random.randint(0, 5))  \n",
    "  \n",
    "# print random floating point number between 0 and 1\n",
    "print(random.random())  \n",
    "  \n",
    "# random number between 0 and 100\n",
    "print(random.random() * 100)  \n",
    "  \n",
    "List = [1, 4, True, 800, \"python\", 27, \"hello\"]\n",
    "  \n",
    "# using choice function in random module for choosing \n",
    "# a random element from a set such as a list\n",
    "print(random.choice(List)) \n",
    "  "
   ]
  },
  {
   "cell_type": "code",
   "execution_count": 3,
   "id": "65d154a4",
   "metadata": {},
   "outputs": [],
   "source": [
    "# a simple module\n",
    "# A simple module, calc.py\n",
    "  \n",
    "def add(x, y):\n",
    "    return (x+y)\n",
    "  \n",
    "def subtract(x, y):\n",
    "    return (x-y)\n",
    "\n",
    "def multiply(x,y):\n",
    "    return(x*y)\n",
    "\n",
    "def divide(x,y):\n",
    "    return(x/y)"
   ]
  },
  {
   "cell_type": "code",
   "execution_count": 6,
   "id": "3bd4b59a",
   "metadata": {},
   "outputs": [
    {
     "name": "stdout",
     "output_type": "stream",
     "text": [
      "12\n",
      "8\n",
      "5.0\n",
      "20\n"
     ]
    }
   ],
   "source": [
    "import calc\n",
    "print(calc.add(10, 2))\n",
    "print(calc.subtract(10,2))\n",
    "print(calc.divide(10,2))\n",
    "print(calc.multiply(10,2))\n"
   ]
  },
  {
   "cell_type": "code",
   "execution_count": 5,
   "id": "7caf6752",
   "metadata": {},
   "outputs": [
    {
     "name": "stdout",
     "output_type": "stream",
     "text": [
      "12\n",
      "8\n"
     ]
    }
   ],
   "source": [
    "from calc import add, subtract\n",
    "print(add(10, 2))\n",
    "print(subtract(10,2))\n"
   ]
  },
  {
   "cell_type": "code",
   "execution_count": null,
   "id": "746c499e",
   "metadata": {},
   "outputs": [],
   "source": [
    "Python is a multi-paradigm programming language.\n",
    "It supports different programming approaches.\n",
    "\n",
    "One of the popular approaches to solve a programming \n",
    "problem is by creating objects. This is known as Object-Oriented Programming (OOP)."
   ]
  },
  {
   "cell_type": "code",
   "execution_count": null,
   "id": "030b0291",
   "metadata": {},
   "outputs": [],
   "source": [
    "OOPs in Python\n",
    "The basic idea behind an object-oriented programming (OOP) is to combine\n",
    "both data and associated procedures (known as methods) into a single unit\n",
    "which operate on the data. \n",
    "Such a unit is called an object.\n",
    "Python is an object-oriented language, everything in Python is an object.\n",
    "\n",
    "A class is a collection of objects.\n",
    "A class contains the blueprints or the prototype from which the objects \n",
    "are being created. \n",
    "It is a logical entity that contains some attributes and methods. \n",
    "\n",
    "The concept of OOP in Python focuses on creating reusable code. \n",
    "This concept is also known as DRY (Don't Repeat Yourself)."
   ]
  },
  {
   "cell_type": "code",
   "execution_count": null,
   "id": "5e463d4a",
   "metadata": {},
   "outputs": [],
   "source": [
    "Defining class\n",
    "All class definitions start with the class keyword, \n",
    "which is followed by the name of the class and a colon\n",
    "\n",
    "class ClassName:\n",
    "    <statement-1>\n",
    "    .\n",
    "    .\n",
    "    .\n",
    "    <statement-N>"
   ]
  },
  {
   "cell_type": "code",
   "execution_count": 1,
   "id": "8c97e086",
   "metadata": {},
   "outputs": [],
   "source": [
    "#Defining class:\n",
    "\n",
    "class MCA():\n",
    "    pass\n",
    "    \n",
    "#Creating an object of the class\n",
    "\n",
    "x = MCA ()\n"
   ]
  },
  {
   "cell_type": "code",
   "execution_count": null,
   "id": "64dafafe",
   "metadata": {},
   "outputs": [],
   "source": [
    "The properties that all objects of a class\n",
    "must have, are defined in a method called __init__()\n",
    "Every time a new object of a class is created, __init__() sets\n",
    "the initial state of the object by assigning the values of the \n",
    "object’s properties. \n",
    "That is, __init__() initializes each new instance of the class.\n"
   ]
  },
  {
   "cell_type": "code",
   "execution_count": null,
   "id": "dc5de2c5",
   "metadata": {},
   "outputs": [],
   "source": [
    "we can give __init__() any number of parameters, \n",
    "but the first parameter will always be a variable called self.\n",
    "When a new class instance is created, \n",
    "the instance is automatically passed to the self parameter in __init__()\n",
    "so that new attributes can be defined on the object.\n",
    "\n",
    "Attributes created in __init__() are called instance attributes.\n",
    "\n",
    "\n",
    "Class attributes are attributes that have the same value\n",
    "for all class instances. \n",
    "we can define a class attribute by assigning a value to a variable name\n",
    "outside of __init__().\n",
    "\n",
    "Class attributes are defined directly \n",
    "beneath the first line of the class name.\n",
    "When an instance of the class is created, class\n",
    "attributes are automatically created and assigned to their initial values.\n"
   ]
  },
  {
   "cell_type": "code",
   "execution_count": 48,
   "id": "6768424d",
   "metadata": {},
   "outputs": [
    {
     "name": "stdout",
     "output_type": "stream",
     "text": [
      "Arathi belongs to MCA-A\n",
      "Arathi is 20 years old\n",
      "Arathi is 20 years old\n"
     ]
    }
   ],
   "source": [
    "#Defining class:\n",
    "class MCA:\n",
    "    # class attribute\n",
    "    batch='MCA-A'\n",
    "    \n",
    "    # instance attribute\n",
    "    def __init__(self,name, age):\n",
    "        self.name= name\n",
    "        self.age= age\n",
    "        \n",
    "    \n",
    "#Creating an object of the class\n",
    "roll_no1 = MCA('Arathi',20)\n",
    "# Python creates a new instance and passes it to the first parameter of .__init__(). \n",
    "# This essentially removes the self parameter,\n",
    "# so we only need to worry about the name and age parameters.\n",
    "\n",
    "# Access the class attributes\n",
    "print(f\"{roll_no1.name} belongs to {roll_no1.__class__.batch}\")\n",
    "\n",
    "#Access the instance attributes\n",
    "\n",
    "# print option1\n",
    "print(f\"{roll_no1.name} is {roll_no1.age} years old\")\n",
    "\n",
    "#print option2\n",
    "print(\"{} is {} years old\".format(roll_no1.name, roll_no1.age))"
   ]
  },
  {
   "cell_type": "code",
   "execution_count": 49,
   "id": "f311a688",
   "metadata": {},
   "outputs": [
    {
     "name": "stdout",
     "output_type": "stream",
     "text": [
      "Arathi belongs to MCA-A\n",
      "Arathi is 20 years old\n",
      "Arathi says malayalam\n",
      "\n",
      "Abhijith belongs to MCA-A\n",
      "Abhijith is 21 years old\n",
      "Abhijith says hindi\n"
     ]
    }
   ],
   "source": [
    "#Defining class:\n",
    "class MCA:\n",
    "    # class attribute\n",
    "    batch='MCA-A'\n",
    "    \n",
    "    \n",
    "    # instance attribute\n",
    "    def __init__(self,name,age):\n",
    "        self.name= name\n",
    "        self.age= age\n",
    "        \n",
    "    #Instance method\n",
    "    def description(self):\n",
    "        return f\"{self.name} is {self.age} years old\"\n",
    "    \n",
    "    def speak(self,lan):\n",
    "        return f\"{self.name} says {lan}\"\n",
    "               \n",
    "    \n",
    "#Creating an object of the class\n",
    "roll_no1 = MCA('Arathi',20)\n",
    "roll_no2 = MCA('Abhijith',21)\n",
    "\n",
    "# Access the class attributes\n",
    "print(f\"{roll_no1.name} belongs to {roll_no1.__class__.batch}\")\n",
    "\n",
    "#Access the instance method\n",
    "print(roll_no1.description())\n",
    "print(roll_no1.speak(\"malayalam\"))\n",
    "\n",
    "print()\n",
    "# Access the class attributes\n",
    "print(f\"{roll_no2.name} belongs to {roll_no2.__class__.batch}\")\n",
    "\n",
    "#Access the instance method\n",
    "print(roll_no2.description())\n",
    "print(roll_no2.speak(\"hindi\"))"
   ]
  },
  {
   "cell_type": "code",
   "execution_count": 45,
   "id": "60b208ba",
   "metadata": {},
   "outputs": [
    {
     "name": "stdout",
     "output_type": "stream",
     "text": [
      "<__main__.MCA object at 0x000001DC12035C10>\n",
      "Arathi is 20 years old\n"
     ]
    }
   ],
   "source": [
    "#Defining class:\n",
    "class MCA:\n",
    "    # class attribute\n",
    "    batch='MCA-A'\n",
    "    \n",
    "    \n",
    "    # instance attribute\n",
    "    def __init__(self,name,age):\n",
    "        self.name= name\n",
    "        self.age= age\n",
    "        \n",
    "    #Instance method\n",
    "    def description(self):\n",
    "        return f\"{self.name} is {self.age} years old\"\n",
    "     \n",
    "#Creating an object of the class\n",
    "roll_no1 = MCA('Arathi',20)\n",
    "\n",
    "print(roll_no1)\n",
    "\n",
    "print(roll_no1.description())"
   ]
  },
  {
   "cell_type": "code",
   "execution_count": 7,
   "id": "f8b7530f",
   "metadata": {},
   "outputs": [
    {
     "name": "stdout",
     "output_type": "stream",
     "text": [
      "Arathi is 20 years old\n"
     ]
    }
   ],
   "source": [
    "#Defining class:\n",
    "class MCA:\n",
    "    # class attribute\n",
    "    batch='MCA-A'\n",
    "    \n",
    "    \n",
    "    # instance attribute\n",
    "    def __init__(self,name,age):\n",
    "        self.name= name\n",
    "        self.age= age\n",
    "        \n",
    "    #Instance method\n",
    "    def __str__(self):\n",
    "        return f\"{self.name} is {self.age} years old\"\n",
    "     \n",
    "#Creating an object of the class\n",
    "roll_no1 = MCA('Arathi',20)\n",
    "\n",
    "print(roll_no1)\n",
    "\n",
    "#Methods like .__init__() and .__str__() are called dunder methods \n",
    "#because they begin and end with double underscores. \n",
    "# This method returns the string representation of the object. \n",
    "# This method is called when print() or str() function is invoked on an object. "
   ]
  },
  {
   "cell_type": "code",
   "execution_count": 11,
   "id": "1ee4fc1c",
   "metadata": {},
   "outputs": [
    {
     "name": "stdout",
     "output_type": "stream",
     "text": [
      "Arathi is 20 years old\n",
      "Arathi says Malayalam\n"
     ]
    }
   ],
   "source": [
    "#Defining class:\n",
    "class MCA:\n",
    "    # class attribute\n",
    "    batch='MCA-A'\n",
    "    \n",
    "    \n",
    "    # instance attribute\n",
    "    def __init__(self,name,age):\n",
    "        self.name= name\n",
    "        self.age= age\n",
    "        \n",
    "    #Instance method\n",
    "    def __str__(self):\n",
    "        return f\"{self.name} is {self.age} years old\"\n",
    "    \n",
    "    def speak(self,lan):\n",
    "        return f\"{self.name} says {lan}\"\n",
    "               \n",
    "    \n",
    "#Creating an object of the class\n",
    "roll_no1 = MCA('Arathi',20)\n",
    "\n",
    "print(roll_no1)\n",
    "print(roll_no1.speak(\"Malayalam\"))"
   ]
  },
  {
   "cell_type": "code",
   "execution_count": null,
   "id": "36619ad0",
   "metadata": {},
   "outputs": [],
   "source": [
    "Inheritance in python:\n",
    "    \n",
    "    Inheritance allows us to define a class that inherits all the methods and properties\n",
    "    from another class.\n",
    "    Parent class is the class being inherited from, also called base class or super class. \n",
    "    Child class is the class that inherits from another class, also called derived class or sub class."
   ]
  },
  {
   "cell_type": "code",
   "execution_count": null,
   "id": "c0f960e5",
   "metadata": {},
   "outputs": [],
   "source": [
    "Python Inheritance Syntax:\n",
    "To make a class inherit from another,\n",
    "we apply the name of the base class in parentheses to\n",
    "the derived class’ definition."
   ]
  },
  {
   "cell_type": "code",
   "execution_count": 51,
   "id": "37306de7",
   "metadata": {},
   "outputs": [
    {
     "data": {
      "text/plain": [
       "True"
      ]
     },
     "execution_count": 51,
     "metadata": {},
     "output_type": "execute_result"
    }
   ],
   "source": [
    "class Person:\n",
    "    pass\n",
    "class Student(Person):\n",
    "    pass\n",
    "\n",
    "issubclass(Student,Person)"
   ]
  },
  {
   "cell_type": "code",
   "execution_count": 65,
   "id": "9b5d43e6",
   "metadata": {},
   "outputs": [
    {
     "name": "stdout",
     "output_type": "stream",
     "text": [
      " I'm a fruit and my name is apple\n",
      "apple\n",
      " I'm a fruit and my name is mango\n",
      "mango\n"
     ]
    }
   ],
   "source": [
    "class fruit:\n",
    "    def __init__(self,name):\n",
    "        self.name=name\n",
    "        print(f\" I'm a fruit and my name is {self.name}\")\n",
    "        \n",
    "    def getname(self):\n",
    "        return self.name\n",
    "    \n",
    "class sweet_fruit(fruit):\n",
    "    pass\n",
    "\n",
    "f1=fruit(\"apple\")\n",
    "print(f1.getname())\n",
    "\n",
    "f2=sweet_fruit(\"mango\")\n",
    "print(f2.getname())\n",
    "\n"
   ]
  },
  {
   "cell_type": "code",
   "execution_count": null,
   "id": "1587f2b8",
   "metadata": {},
   "outputs": [],
   "source": [
    "Child classes can override or extend the attributes and methods of parent classes.\n",
    "In other words, child classes inherit all of the parent’s attributes and methods \n",
    "but can also specify attributes and methods that are unique to themselves."
   ]
  },
  {
   "cell_type": "code",
   "execution_count": 75,
   "id": "bfcff04e",
   "metadata": {},
   "outputs": [
    {
     "name": "stdout",
     "output_type": "stream",
     "text": [
      " I'm a fruit and my name is apple\n",
      "apple\n",
      " I'm a sweet fruit, my name is mango and my color is yellow\n",
      "mango\n"
     ]
    }
   ],
   "source": [
    "class fruit:\n",
    "    def __init__(self,name):\n",
    "        self.name=name\n",
    "        print(f\" I'm a fruit and my name is {self.name}\")\n",
    "        \n",
    "    def getname(self):\n",
    "        return self.name\n",
    "    \n",
    "class sweet_fruit(fruit):\n",
    "    def __init__(self,name,color):\n",
    "        self.name=name\n",
    "        self.color=color\n",
    "        print(f\" I'm a sweet fruit, my name is {self.name} and my color is {self.color}\") \n",
    "    \n",
    "    def getname(self):\n",
    "        return self.name\n",
    "    \n",
    "f1=fruit(\"apple\")\n",
    "print(f1.getname())\n",
    "\n",
    "f2=sweet_fruit(\"mango\",\"yellow\")\n",
    "print(f2.getname())\n",
    "\n"
   ]
  },
  {
   "cell_type": "code",
   "execution_count": 13,
   "id": "f9778d12",
   "metadata": {},
   "outputs": [
    {
     "name": "stdout",
     "output_type": "stream",
     "text": [
      "I'm a fruit\n",
      "I'm citrus\n",
      "True\n",
      "False\n",
      "True\n",
      "True\n"
     ]
    }
   ],
   "source": [
    "class fruit:\n",
    "    def __init__(self):\n",
    "        print(\"I'm a fruit\")     \n",
    "        \n",
    "class citrus(fruit):\n",
    "    def __init__(self):\n",
    "        print(\"I'm citrus\")                           \n",
    "f1=fruit()\n",
    "f2=citrus()\n",
    "\n",
    "\n",
    "print(isinstance(f1,fruit))\n",
    "\n",
    "print(isinstance(f1,citrus))\n",
    "\n",
    "print(isinstance(f2,fruit))\n",
    "\n",
    "print(isinstance(f2,citrus))\n",
    "\n",
    "#Notice that isinstance() takes two arguments, an object and a class. \n",
    "#More generally, all objects created from a child class are instances of \n",
    "#the parent class, although they may not be instances of other child classes."
   ]
  },
  {
   "cell_type": "code",
   "execution_count": null,
   "id": "aa17b701",
   "metadata": {},
   "outputs": [],
   "source": [
    "Single Inheritance in Python\n",
    "A single Python inheritance is when a single class inherits from a class."
   ]
  },
  {
   "cell_type": "code",
   "execution_count": 1,
   "id": "5422b65b",
   "metadata": {},
   "outputs": [
    {
     "name": "stdout",
     "output_type": "stream",
     "text": [
      "I'm a fruit\n",
      "1\n",
      "I'm citrus\n",
      "3\n"
     ]
    }
   ],
   "source": [
    "x=0\n",
    "\n",
    "class fruit:\n",
    "    def __init__(self):\n",
    "        global x\n",
    "        x+=1\n",
    "        print(\"I'm a fruit\") \n",
    "        \n",
    "        \n",
    "class citrus(fruit):\n",
    "    def __init__(self):\n",
    "        #super().__init__()\n",
    "        global x\n",
    "        x+=2\n",
    "        print(\"I'm citrus\")                           \n",
    "\n",
    "\n",
    "f1=fruit()\n",
    "print(x)\n",
    "\n",
    "f2=citrus()\n",
    "print(x)"
   ]
  },
  {
   "cell_type": "code",
   "execution_count": null,
   "id": "a8c87c62",
   "metadata": {},
   "outputs": [],
   "source": [
    "Python Multiple Inheritance\n",
    "Multiple Python inheritance are when a class inherits from multiple base classes."
   ]
  },
  {
   "cell_type": "code",
   "execution_count": 77,
   "id": "5958fb43",
   "metadata": {},
   "outputs": [
    {
     "name": "stdout",
     "output_type": "stream",
     "text": [
      "True\n",
      "True\n"
     ]
    }
   ],
   "source": [
    "class Color:\n",
    "    pass\n",
    "class Fruit:\n",
    "    pass\n",
    "class Orange(Color,Fruit):\n",
    "    pass\n",
    "\n",
    "print(issubclass(Orange,Color))\n",
    "print(issubclass(Orange,Fruit))"
   ]
  },
  {
   "cell_type": "code",
   "execution_count": null,
   "id": "83bb7b75",
   "metadata": {},
   "outputs": [],
   "source": [
    "Multilevel Inheritance in Python\n",
    "When one class inherits from another, \n",
    "which in turn inherits from another, \n",
    "it is multilevel python inheritance.\n",
    "\n"
   ]
  },
  {
   "cell_type": "code",
   "execution_count": 78,
   "id": "f8a8345b",
   "metadata": {},
   "outputs": [
    {
     "data": {
      "text/plain": [
       "1"
      ]
     },
     "execution_count": 78,
     "metadata": {},
     "output_type": "execute_result"
    }
   ],
   "source": [
    "class A:\n",
    "    x=1         \n",
    "class B(A):\n",
    "    pass\n",
    "class C(B):\n",
    "    pass\n",
    "cobj=C()\n",
    "cobj.x"
   ]
  },
  {
   "cell_type": "code",
   "execution_count": null,
   "id": "be1baf67",
   "metadata": {},
   "outputs": [],
   "source": [
    "Hierarchical Inheritance in Python\n",
    "When more than one class inherits from a class, it is hierarchical Python inheritance."
   ]
  },
  {
   "cell_type": "code",
   "execution_count": 79,
   "id": "571f8536",
   "metadata": {},
   "outputs": [
    {
     "name": "stdout",
     "output_type": "stream",
     "text": [
      "True\n",
      "True\n"
     ]
    }
   ],
   "source": [
    "class A:\n",
    "    pass\n",
    "class B(A):\n",
    "    pass\n",
    "class C(A):\n",
    "    pass\n",
    "print(issubclass(B,A))\n",
    "print(issubclass(C,A))"
   ]
  },
  {
   "cell_type": "code",
   "execution_count": null,
   "id": "ba4cf422",
   "metadata": {},
   "outputs": [],
   "source": [
    "Hybrid Inheritance in Python\n",
    "Hybrid Python inheritance is a combination of any two kinds of inheritance."
   ]
  },
  {
   "cell_type": "code",
   "execution_count": 2,
   "id": "1e248f1b",
   "metadata": {},
   "outputs": [
    {
     "data": {
      "text/plain": [
       "1"
      ]
     },
     "execution_count": 2,
     "metadata": {},
     "output_type": "execute_result"
    }
   ],
   "source": [
    ">>> class A:\n",
    "                x=1       \n",
    ">>> class B(A):\n",
    "                pass\n",
    ">>> class C(A):\n",
    "                pass\n",
    ">>> class D(B,C):\n",
    "                pass\n",
    ">>> dobj=D()\n",
    ">>> dobj.x"
   ]
  },
  {
   "cell_type": "code",
   "execution_count": null,
   "id": "8afe2c4b",
   "metadata": {},
   "outputs": [],
   "source": [
    "Python Inheritance Super Function – Super()\n",
    "With inheritance, the super() function in python actually comes in quite handy.\n",
    "It allows us to call a method from the parent class."
   ]
  },
  {
   "cell_type": "code",
   "execution_count": 3,
   "id": "f05ab5f2",
   "metadata": {},
   "outputs": [
    {
     "name": "stdout",
     "output_type": "stream",
     "text": [
      "Starting engine\n",
      "I have two wheels\n",
      "Stopping engine\n"
     ]
    }
   ],
   "source": [
    "\n",
    ">>> class Vehicle:\n",
    "                def start(self):\n",
    "                                print(\"Starting engine\")\n",
    "                def stop(self):\n",
    "                                print(\"Stopping engine\")                            \n",
    ">>> class TwoWheeler(Vehicle):\n",
    "                def say(self):\n",
    "                                super().start()\n",
    "                                print(\"I have two wheels\")\n",
    "                                super().stop()                            \n",
    ">>> Pulsar=TwoWheeler()\n",
    ">>> Pulsar.say()"
   ]
  },
  {
   "cell_type": "code",
   "execution_count": null,
   "id": "ac671c88",
   "metadata": {},
   "outputs": [],
   "source": [
    "# Python Inheritance Super Function – Super() in multilevel inheritance\n",
    "class xyz:\n",
    "    def__init__(self):\n",
    "      print(\"hey, I am initialized , xyz\")\n",
    "    def sub_xyz(self,b):\n",
    "      print(\"Printing from class xyz:\",b)\n",
    "class xyz1(xyz):\n",
    "   def __init__(self):\n",
    "     print(\"hey, I am initialized, xyz1\")\n",
    "     super().__init__()\n",
    "   def sub_xyz(self,b):\n",
    "     print(\"Printing from class xyz1:\", b)\n",
    "     super().sub_xyz(b+1)\n",
    "class xyz2(xyz1):\n",
    "   def __init__(self):\n",
    "     print(\"hey, I am initialized, xyz2\")\n",
    "     super().__init__()\n",
    "   def sub_xyz(self,b):\n",
    "     print(\"Printing from class xyz2:\",b)\n",
    "     super().sub_xyz(b+1)\n",
    "if __name__ == '__main__':\n",
    "   ob =xyz2()\n",
    "   ob.sub_xyz(10)"
   ]
  },
  {
   "cell_type": "code",
   "execution_count": null,
   "id": "b152ebe3",
   "metadata": {},
   "outputs": [],
   "source": [
    "Python Override Method\n",
    "A subclass may change the functionality of a Python method in the superclass.\n",
    "It does so by redefining it.\n",
    "\n",
    "This is termed python method overriding. Lets see this Python Method Overriding Example.\n"
   ]
  },
  {
   "cell_type": "code",
   "execution_count": 5,
   "id": "526fc3f6",
   "metadata": {},
   "outputs": [
    {
     "name": "stdout",
     "output_type": "stream",
     "text": [
      "I'm in A\n",
      "I'm in B\n"
     ]
    }
   ],
   "source": [
    "\n",
    "class A:\n",
    "                def sayhi(self):\n",
    "                                print(\"I'm in A\")                          \n",
    "class B(A):\n",
    "                def sayhi(self):\n",
    "                                print(\"I'm in B\")                             \n",
    "\n",
    "aobj=A()\n",
    "aobj.sayhi()\n",
    "\n",
    "bobj=B()\n",
    "bobj.sayhi()"
   ]
  },
  {
   "cell_type": "code",
   "execution_count": null,
   "id": "5d52e71f",
   "metadata": {},
   "outputs": [],
   "source": [
    "Method Overloading\n",
    "What looks like overloading methods, \n",
    "it is actually that Python keeps only the latest definition of a method you declare to it.\n",
    "\n",
    "This code doesn’t make a call to the version of add() that takes in two arguments to add. \n",
    "So we find it safe to say Python doesn’t support method overloading.\n",
    "\n",
    "We may define many methods of the same name and different arguments, \n",
    "but we can only use the latest defined method.\n",
    "Calling the other method will produce an error."
   ]
  },
  {
   "cell_type": "code",
   "execution_count": 5,
   "id": "3360a2af",
   "metadata": {},
   "outputs": [
    {
     "data": {
      "text/plain": [
       "9"
      ]
     },
     "execution_count": 5,
     "metadata": {},
     "output_type": "execute_result"
    }
   ],
   "source": [
    "def add(a,b):\n",
    "      return a+b\n",
    "def add(a,b,c):\n",
    "      return a+b+c\n",
    "#add(2,3)\n",
    "\n",
    "add(2,3,4)\n"
   ]
  },
  {
   "cell_type": "code",
   "execution_count": null,
   "id": "b305509a",
   "metadata": {},
   "outputs": [],
   "source": [
    "Operator Overloading means giving extended meaning beyond their predefined operational meaning.\n",
    "For example operator + is used to add two integers as well as join two strings and merge two lists.\n",
    "It is achievable because ‘+’ operator is overloaded by int class and str class. "
   ]
  },
  {
   "cell_type": "code",
   "execution_count": 19,
   "id": "3cf1e270",
   "metadata": {},
   "outputs": [
    {
     "name": "stdout",
     "output_type": "stream",
     "text": [
      "3\n",
      "Hihello\n",
      "12\n",
      "HiHiHiHi\n"
     ]
    }
   ],
   "source": [
    "#Python program to show use of\n",
    "# + operator for different purposes.\n",
    " \n",
    "print(1 + 2)\n",
    " \n",
    "# concatenate two strings\n",
    "print(\"Hi\"+\"hello\")\n",
    " \n",
    "# Product two numbers\n",
    "print(3 * 4)\n",
    " \n",
    "# Repeat the String\n",
    "print(\"Hi\"*4)"
   ]
  },
  {
   "cell_type": "code",
   "execution_count": null,
   "id": "221c41cd",
   "metadata": {},
   "outputs": [],
   "source": [
    "How to overload the operators in Python? \n",
    "\n",
    "Consider that we have two objects which are a physical representation of a class\n",
    "(user-defined data type) and \n",
    "we have to add two objects with binary ‘+’ operator it throws an error,\n",
    "because compiler don’t know how to add two objects.\n",
    "We can overload all existing operators but we can’t create a new operator. \n",
    "To perform operator overloading, Python provides some special function or magic function \n",
    "that is automatically invoked when it is associated with that particular operator. \n",
    "the magic method __add__ is automatically invoked in which the operation for + operator is defined.\n",
    "\n"
   ]
  },
  {
   "attachments": {
    "image.png": {
     "image/png": "[encoded data removed]"
    }
   },
   "cell_type": "markdown",
   "id": "868c62e1",
   "metadata": {},
   "source": [
    "![image.png](attachment:image.png)"
   ]
  },
  {
   "attachments": {
    "image.png": {
     "image/png": "[encoded data removed]"
    }
   },
   "cell_type": "markdown",
   "id": "c7f528fe",
   "metadata": {},
   "source": [
    "![image.png](attachment:image.png)"
   ]
  },
  {
   "attachments": {
    "image.png": {
     "image/png": "[encoded data removed]"
    }
   },
   "cell_type": "markdown",
   "id": "ffa67b42",
   "metadata": {},
   "source": [
    "![image.png](attachment:image.png)"
   ]
  },
  {
   "attachments": {
    "image.png": {
     "image/png": "[encoded data removed]"
    }
   },
   "cell_type": "markdown",
   "id": "94f89a7f",
   "metadata": {},
   "source": [
    "![image.png](attachment:image.png)"
   ]
  },
  {
   "cell_type": "code",
   "execution_count": 20,
   "id": "d942fdb3",
   "metadata": {},
   "outputs": [
    {
     "name": "stdout",
     "output_type": "stream",
     "text": [
      "3\n",
      "hihello\n"
     ]
    }
   ],
   "source": [
    "# Python Program illustrate how\n",
    "# to overload an binary + operator\n",
    " \n",
    "class A:\n",
    "    def __init__(self, a):\n",
    "        self.a = a\n",
    " \n",
    "    # adding two objects\n",
    "    def __add__(self, b):\n",
    "        return self.a + b.a\n",
    "ob1 = A(1)\n",
    "ob2 = A(2)\n",
    "ob3 = A(\"hi\")\n",
    "ob4 = A(\"hello\")\n",
    " \n",
    "print(ob1 + ob2)\n",
    "print(ob3 + ob4)"
   ]
  },
  {
   "cell_type": "code",
   "execution_count": 21,
   "id": "eaa61150",
   "metadata": {},
   "outputs": [
    {
     "name": "stdout",
     "output_type": "stream",
     "text": [
      "ob2 is greater than ob1\n"
     ]
    }
   ],
   "source": [
    "# Python program to overload\n",
    "# a comparison operators\n",
    " \n",
    "class A:\n",
    "    def __init__(self, a):\n",
    "        self.a = a\n",
    "    def __gt__(self, other):\n",
    "        if(self.a>other.a):\n",
    "            return True\n",
    "        else:\n",
    "            return False\n",
    "ob1 = A(2)\n",
    "ob2 = A(3)\n",
    "if(ob1>ob2):\n",
    "    print(\"ob1 is greater than ob2\")\n",
    "else:\n",
    "    print(\"ob2 is greater than ob1\")"
   ]
  },
  {
   "cell_type": "code",
   "execution_count": null,
   "id": "857b1431",
   "metadata": {},
   "outputs": [],
   "source": []
  }
 ],
 "metadata": {
  "kernelspec": {
   "display_name": "Python 3 (ipykernel)",
   "language": "python",
   "name": "python3"
  },
  "language_info": {
   "codemirror_mode": {
    "name": "ipython",
    "version": 3
   },
   "file_extension": ".py",
   "mimetype": "text/x-python",
   "name": "python",
   "nbconvert_exporter": "python",
   "pygments_lexer": "ipython3",
   "version": "3.9.7"
  }
 },
 "nbformat": 4,
 "nbformat_minor": 5
}
